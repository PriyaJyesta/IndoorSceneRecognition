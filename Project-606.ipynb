{
 "cells": [
  {
   "cell_type": "code",
   "execution_count": 1,
   "metadata": {},
   "outputs": [],
   "source": [
    "#Importing the required libraries\n",
    "import os\n",
    "import numpy as np # linear algebra\n",
    "import pandas as pd # data processing, CSV file I/O (e.g. pd.read_csv)\n",
    "import cv2\n",
    "import seaborn as sns # for visualisation\n",
    "import matplotlib.pyplot as plt # for visualisation\n",
    "from matplotlib.pyplot import figure\n",
    "from itertools import cycle, islice\n",
    "%matplotlib inline \n",
    "sns.set(color_codes=True)"
   ]
  },
  {
   "cell_type": "code",
   "execution_count": 2,
   "metadata": {},
   "outputs": [],
   "source": [
    "cwd = os.getcwd()"
   ]
  },
  {
   "cell_type": "code",
   "execution_count": 3,
   "metadata": {},
   "outputs": [
    {
     "data": {
      "text/plain": [
       "'/Users/priyajyesta'"
      ]
     },
     "execution_count": 3,
     "metadata": {},
     "output_type": "execute_result"
    }
   ],
   "source": [
    "cwd"
   ]
  },
  {
   "cell_type": "code",
   "execution_count": 4,
   "metadata": {},
   "outputs": [],
   "source": [
    "pic_lib = r'/Users/priyajyesta/Downloads/Images'"
   ]
  },
  {
   "cell_type": "code",
   "execution_count": 5,
   "metadata": {},
   "outputs": [
    {
     "data": {
      "text/plain": [
       "'/Users/priyajyesta/Downloads'"
      ]
     },
     "execution_count": 5,
     "metadata": {},
     "output_type": "execute_result"
    }
   ],
   "source": [
    "pic_lib"
   ]
  },
  {
   "cell_type": "code",
   "execution_count": 8,
   "metadata": {},
   "outputs": [],
   "source": [
    "letter_list=[]\n",
    "for item in os.listdir(pic_lib):\n",
    "    letter_list.append(item)"
   ]
  },
  {
   "cell_type": "code",
   "execution_count": 7,
   "metadata": {},
   "outputs": [
    {
     "data": {
      "text/plain": [
       "['Project_2_601 (1).ipynb',\n",
       " '690_Project_Deliverable_2-2.ipynb',\n",
       " 'googlechrome.dmg',\n",
       " 'tidy.ipynb',\n",
       " 'Document Verification | REAL ID | California DMV.pdf',\n",
       " 'jyesta COMMENTS-2.docx',\n",
       " '690_Stats_Assignment_03-2.ipynb',\n",
       " 'I94 - Official Website.pdf',\n",
       " 'PHOTO-2019-12-08-23-36-02.jpg',\n",
       " '603_Project_EDA.ipynb',\n",
       " 'Churn_Reduction.ipynb',\n",
       " 'ML_Assignment.ipynb',\n",
       " 'Beer_Recommendation_System.ipynb',\n",
       " 'data_603_6_3-2.ipynb',\n",
       " 'BIO_DATA.pdf',\n",
       " 'Data-690-07Assignment.ipynb',\n",
       " 'Unifying Installer.app',\n",
       " '~$ 1- Final_Jyesta.docx',\n",
       " 'Untitled1.ipynb',\n",
       " 'NewHirePaperwork',\n",
       " 'intern.pdf',\n",
       " 'Project_2_601.ipynb',\n",
       " '.DS_Store',\n",
       " 'jyesta COMMENTS (1).docx',\n",
       " 'Ratna_Deep_Simhadri_Resume.pdf',\n",
       " '690_Project.ipynb',\n",
       " '690_Assignment2.ipynb',\n",
       " '601_Project_EDA_2.ipynb',\n",
       " 'Sentimental-Analysis.ipynb',\n",
       " '603_Project.ipynb',\n",
       " 'jdk-8u261-macosx-x64.dmg',\n",
       " 'Webex.pkg',\n",
       " '.localized',\n",
       " 'Untitled3.ipynb',\n",
       " 'F19_Final.ipynb',\n",
       " 'Images',\n",
       " '601week12.ipynb',\n",
       " '690-Mini-Project.ipynb',\n",
       " '601_lastassignment-2.ipynb',\n",
       " '601_w7.ipynb',\n",
       " '602_Project_final.ipynb',\n",
       " 'Chapter-1-code-to-review-2.ipynb',\n",
       " '603_Project (1).ipynb',\n",
       " 'Project2_Data601.ipynb',\n",
       " '690_week12_assignment.ipynb',\n",
       " 'Copy of dpp data dictionary.xlsx',\n",
       " '601_week_10_assignment.ipynb',\n",
       " '690-Assignment-04-2.ipynb',\n",
       " 'Teams_osx_s_8D87C45903B2B38-7-0_.pkg',\n",
       " 'PF_1125619(20192020).pdf',\n",
       " 'intro.ipynb',\n",
       " 'Jyesta_603_6_3.ipynb',\n",
       " 'USCIS Form I-9.pdf',\n",
       " 'Data-690-07Assignment-2.ipynb',\n",
       " 'Wine_Quality_Project.ipynb',\n",
       " 'Images 2',\n",
       " '601_lastassignment.ipynb',\n",
       " '~$esta_Priya_Resume.docx',\n",
       " 'i-9.pdf',\n",
       " '~$VID 19 FACE MASK DETECTOR.docx',\n",
       " 'Untitled74-3.ipynb',\n",
       " 'VLOOKUP Explained in Simple Terms at Starbucks.xlsx',\n",
       " 'F1-VISA.jpg',\n",
       " '690_05.ipynb',\n",
       " 'Untitled74.ipynb',\n",
       " 'latest.ipynb',\n",
       " '690_03_FinalProject (1).ipynb',\n",
       " 'Resume.pdf',\n",
       " 'Final_690_Project.ipynb',\n",
       " 'Project_2aslam.ipynb',\n",
       " 'SentimentalAnalysis.ipynb',\n",
       " 'Data690_03_Week5_Classes_and_OOP.ipynb',\n",
       " 'Anaconda3-2019.10-MacOSX-x86_64.pkg',\n",
       " 'DSP_Assignment_One_AirQuality_Due_Sep_14_1pm.ipynb',\n",
       " 'Offer Letter for Vishnu.pdf',\n",
       " 'PHOTO-2019-12-08-10-06-02.jpg',\n",
       " 'TrainImages.webarchive',\n",
       " '5_690-assignment-2.ipynb',\n",
       " 'Preprocessing_Data.ipynb',\n",
       " 'F19_Final_Answers.ipynb',\n",
       " 'Form16.pdf',\n",
       " 'DSP_Assignment_Three_EarthQuake_Due_Oct11_1pm (1) (1).ipynb',\n",
       " '690-Assignment-04.ipynb',\n",
       " '~$shnuPriya_Resume-2.docx',\n",
       " 'transforming-culture-kingdom-saudi-telecom-focused-people-compete-digital-age-preview_copy.pdf',\n",
       " '~$shnuPriya_Resume  (2).pdf',\n",
       " 'EDA-2.ipynb',\n",
       " '601_week13.ipynb',\n",
       " 'DSP_Assignment_Three_EarthQuake_Due_Oct11_1pm (1).ipynb',\n",
       " '~$ATA HW #2(1).docx',\n",
       " '603_6_2.ipynb',\n",
       " 'Jyesta, Vishnu Priy CPT.pdf',\n",
       " '601FinalProject.ipynb',\n",
       " 'Behavioural Questions.docx',\n",
       " 'Data_690_Week_13_HW.ipynb',\n",
       " '603_6_2-2 (1).ipynb',\n",
       " 'transcripts.pdf',\n",
       " 'passport-20191210142931.pdf',\n",
       " '690_Project-2.ipynb',\n",
       " 'Untitled78.ipynb',\n",
       " 'dpp-input-file-2.txt',\n",
       " '~$tter of HZone Eligibility - WHY NO ID (1).docx',\n",
       " '~$ATA Dataset creation HW1 Summer 2020.docx',\n",
       " 'ABSTRACT.docx',\n",
       " 'Project_602.ipynb',\n",
       " '~$ 1- Final.docx',\n",
       " '602_Project_final-3.ipynb',\n",
       " 'Assignment_07.ipynb',\n",
       " 'Final_Project_601.ipynb',\n",
       " 'Data 690 Week 14.ipynb',\n",
       " 'Assignment_690_w5_pizza.ipynb',\n",
       " 'Data 690 Week 13 HW.ipynb',\n",
       " 'Cisco_WebEx_Add-On.dmg',\n",
       " 'Letter of HZone Eligibility - WHY NO ID (1).docx',\n",
       " '690_Project-4.ipynb',\n",
       " '603_Project-2.ipynb',\n",
       " '603_6_2-2.ipynb',\n",
       " 'data_603_6_1.ipynb',\n",
       " 'SankarBhagawan_Palla_Resume.pdf',\n",
       " 'Project_2_601-3.ipynb',\n",
       " 'Clinical Analytics Intern.docx',\n",
       " 'Harika_Ancha.pdf',\n",
       " '602_Project.ipynb',\n",
       " '690_Project-3.ipynb',\n",
       " '.ipynb_checkpoints',\n",
       " 'DATA690-Assignment-02.ipynb',\n",
       " '603_6_1.ipynb',\n",
       " 'DSP_Assignment_One_AirQuality_Due_Sep_14_1pm (2).ipynb',\n",
       " 'TestImages.txt',\n",
       " 'Jyesta_603_6_3-2.ipynb',\n",
       " 'Assignment_TimeSeries_w8.ipynb',\n",
       " 'Data 690 Week 14 HW.ipynb',\n",
       " '601',\n",
       " '690_Assignment_6.ipynb',\n",
       " 'Jyesta, Vishnu Priya CPT Sp21.pdf',\n",
       " '601FinalProject (1).ipynb',\n",
       " '~$shnuPriya_Resume.docx',\n",
       " '.git',\n",
       " '602_Project-2.ipynb',\n",
       " '690_Stats_Assignment_03.ipynb',\n",
       " '~$inical Analytics Intern.docx',\n",
       " 'Project_2_601_3.ipynb',\n",
       " '601_week12.ipynb',\n",
       " 'FR.ipynb',\n",
       " 'American-Sign-Language-Interpretation-Project-main',\n",
       " 'Confidentiality Agreement-VJyesta.pdf',\n",
       " '690 Week 11 HW(1).ipynb',\n",
       " '~$#5 - Spark.docx',\n",
       " 'Amerant.html',\n",
       " 'In_classAssignment.ipynb',\n",
       " '690_Project_Deliverable_3.ipynb',\n",
       " 'Data_690_Week_14_HW.ipynb',\n",
       " '603_HW_5.ipynb',\n",
       " '602_Project_final-2.ipynb',\n",
       " 'Project_EDA_2.ipynb',\n",
       " 'doc25191420200723133331.pdf',\n",
       " '~$#5 - Spark-converted.docx',\n",
       " 'Data 690 - Week 11 NumPy Part 2.ipynb',\n",
       " 'Practicum Processed for CPT_ Vishnu Priya Jyesta.eml',\n",
       " '601_week12-2.ipynb',\n",
       " '601FinalProject-2.ipynb']"
      ]
     },
     "execution_count": 7,
     "metadata": {},
     "output_type": "execute_result"
    }
   ],
   "source": [
    "letter_list"
   ]
  },
  {
   "cell_type": "code",
   "execution_count": null,
   "metadata": {},
   "outputs": [],
   "source": []
  }
 ],
 "metadata": {
  "kernelspec": {
   "display_name": "Python 3",
   "language": "python",
   "name": "python3"
  },
  "language_info": {
   "codemirror_mode": {
    "name": "ipython",
    "version": 3
   },
   "file_extension": ".py",
   "mimetype": "text/x-python",
   "name": "python",
   "nbconvert_exporter": "python",
   "pygments_lexer": "ipython3",
   "version": "3.7.4"
  }
 },
 "nbformat": 4,
 "nbformat_minor": 2
}
